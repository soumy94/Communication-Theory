{
 "cells": [
  {
   "cell_type": "markdown",
   "metadata": {},
   "source": [
    "# Probability of Error (Uncoded PAM)"
   ]
  },
  {
   "cell_type": "code",
   "execution_count": 7,
   "metadata": {},
   "outputs": [],
   "source": [
    "%matplotlib inline\n",
    "from pylab import *\n",
    "import pamfun as pamfun"
   ]
  },
  {
   "cell_type": "markdown",
   "metadata": {
    "collapsed": true
   },
   "source": [
    "__Below is the code to calculate probability of error.__"
   ]
  },
  {
   "cell_type": "code",
   "execution_count": 4,
   "metadata": {},
   "outputs": [
    {
     "name": "stdout",
     "output_type": "stream",
     "text": [
      "Overwriting PsEsim_x01.py\n"
     ]
    }
   ],
   "source": [
    "# %%writefile PsEsim_x01.py\n",
    "# Simulation of probability of symbol error Ps(E) for\n",
    "# data transmission using uncoded PAM\n",
    "from pylab import *\n",
    "from numpy import *\n",
    "from sys import argv\n",
    "EbNodB= argv\n",
    "import pamfun\n",
    "# ***** Parameters *****\n",
    "Fs = 1000                                             # Sampling rate\n",
    "FB = 100                                              # Baud rate FB\n",
    "EbNodB = float(EbNodB[-1])                                            # Specified SNR Eb/No in dB\n",
    "if 7< EbNodB < 11:\n",
    "    N = 10000000\n",
    "elif EbNodB < 8:\n",
    "    N = 100000\n",
    "else:\n",
    "    N = 10000000\n",
    "    \n",
    "# Number of symbols\n",
    "\n",
    "ptype, pparms = 'rect',[]                             # Pulse type/parameters\n",
    "an_set = [-1,+1]                                      # Set of possible an values\n",
    "M = len(an_set)                                       # Number of signal levels\n",
    "\n",
    "# ***** Compute Eb for given p(t) and signal constellation *****\n",
    "Es_prime = 0\n",
    "for i in an_set:\n",
    "    tt, pt = pamfun.pam12(array([i]), FB, Fs, ptype, pparms)      # PAM signal\n",
    "    Es_prime += (cumsum(pt*pt)/Fs)[-1]\n",
    "Es = Es_prime/len(an_set)\n",
    "Eb = Es/log2(M)\n",
    "\n",
    "# ***** Generate PAM signal using random data *****\n",
    "\n",
    "dn = array(floor(2*rand(N)),int)                      # Random binary data signal\n",
    "an = 2*dn-1                                           # Polar binary sequence\n",
    "tt, st = pamfun.pam12(an, FB, Fs, ptype, pparms)      # PAM signal\n",
    "\n",
    "\n",
    "# ***** Generate Gaussian noise signal *****\n",
    "nt = randn(len(tt))                                   # Gaussian noise\n",
    "\n",
    "\n",
    "# >>>>> Compute An such that rt has desired SNR Eb/No <<<<<\n",
    "\n",
    "N0 = Eb/(10**(EbNodB/10))\n",
    "An = pow(N0*Fs/2, 0.5)\n",
    "rt = st + An*nt                                       # Noisy PAM signal\n",
    "\n",
    "# ***** PAM signal receiver *****\n",
    "dly = 0\n",
    "bn, bt, ixn = pamfun.pamrcvr10(tt, rt, [FB, dly], ptype, pparms)\n",
    "dnhat = array(zeros(len(bn)),int)\n",
    "ix = where(bn > 0)[0]\n",
    "dnhat[ix] = ones(len(ix))                             # Received binary data, quantized\n",
    "\n",
    "# ***** Compare dn, dnhat and compute Ps(E) *****\n",
    "\n",
    "nerror = list(abs(dn - dnhat)).count(1)\n",
    "PsE = nerror/len(dn)"
   ]
  },
  {
   "cell_type": "code",
   "execution_count": 11,
   "metadata": {},
   "outputs": [],
   "source": [
    "PsE_array = array([])\n",
    "for l in arange(0,14,1):\n",
    "    z = float(l)\n",
    "    %run PsEsim_x01.py $z\n",
    "    PsE_array=hstack((PsE_array, array([PsE])))"
   ]
  },
  {
   "cell_type": "markdown",
   "metadata": {},
   "source": [
    "__Below is the array of PsE which is corresponding to arange(0,14) SNR in dB__"
   ]
  },
  {
   "cell_type": "code",
   "execution_count": 12,
   "metadata": {},
   "outputs": [
    {
     "data": {
      "text/plain": [
       "array([  1.03460000e-01,   7.95700000e-02,   5.73900000e-02,\n",
       "         3.91900000e-02,   2.44100000e-02,   1.41800000e-02,\n",
       "         7.51000000e-03,   3.31000000e-03,   3.70200000e-04,\n",
       "         7.48000000e-05,   1.05000000e-05,   1.08333333e-06,\n",
       "         8.33333333e-08,   0.00000000e+00])"
      ]
     },
     "execution_count": 12,
     "metadata": {},
     "output_type": "execute_result"
    }
   ],
   "source": [
    "PsE_array"
   ]
  },
  {
   "cell_type": "code",
   "execution_count": 10,
   "metadata": {},
   "outputs": [
    {
     "data": {
      "image/png": "[encoded data removed]",
      "text/plain": [
       "<matplotlib.figure.Figure at 0x7f5c1c132438>"
      ]
     },
     "metadata": {},
     "output_type": "display_data"
    }
   ],
   "source": [
    "semilogy(arange(0,14,1),PsE_array)\n",
    "grid(True,which=\"both\")\n",
    "xlabel(\"Eb/No in dB\")\n",
    "ylabel(\"Bit Error Rate\")\n",
    "title(\"Probability of Symbol Error P (E) for bipolar \\n(Equally Likely) Digital PAM\")\n",
    "show()"
   ]
  },
  {
   "cell_type": "markdown",
   "metadata": {},
   "source": [
    "__We find that the above simulated BER is very close to that given in the lab manual__"
   ]
  },
  {
   "cell_type": "code",
   "execution_count": 6,
   "metadata": {},
   "outputs": [],
   "source": []
  },
  {
   "cell_type": "markdown",
   "metadata": {},
   "source": [
    "__(i) For 'man' pulse (SNR: 2, 4, 6, 8 dB)__"
   ]
  },
  {
   "cell_type": "code",
   "execution_count": 24,
   "metadata": {
    "collapsed": true
   },
   "outputs": [],
   "source": [
    "PsE_array = array([])\n",
    "for l in arange(0,10,2):\n",
    "    z = float(l)\n",
    "    %run PsEsim_x01_man.py $z\n",
    "    PsE_array=hstack((PsE_array, array([PsE])))"
   ]
  },
  {
   "cell_type": "markdown",
   "metadata": {},
   "source": [
    "__Below is the array which contains the PsE values correpsonding to required SNR value__"
   ]
  },
  {
   "cell_type": "code",
   "execution_count": 26,
   "metadata": {},
   "outputs": [
    {
     "data": {
      "text/plain": [
       "array([ 0.16244  ,  0.11074  ,  0.06204  ,  0.02899  ,  0.0003762])"
      ]
     },
     "execution_count": 26,
     "metadata": {},
     "output_type": "execute_result"
    }
   ],
   "source": [
    "PsE_array"
   ]
  },
  {
   "cell_type": "code",
   "execution_count": 27,
   "metadata": {},
   "outputs": [
    {
     "data": {
      "image/png": "[encoded data removed]",
      "text/plain": [
       "<matplotlib.figure.Figure at 0x7f5c1c032c50>"
      ]
     },
     "metadata": {},
     "output_type": "display_data"
    }
   ],
   "source": [
    "semilogy(arange(0,10,2),PsE_array)\n",
    "grid(True,which=\"both\")\n",
    "xlabel(\"Eb/No in dB\")\n",
    "ylabel(\"Bit Error Rate\")\n",
    "title(\"Probability of Symbol Error P (E) for bipolar \\n(Equally Likely) Digital PAM\")\n",
    "show()"
   ]
  },
  {
   "cell_type": "markdown",
   "metadata": {},
   "source": [
    "__(ii) For 'tri' pulse (SNR: 2, 4, 6, 8 dB)__"
   ]
  },
  {
   "cell_type": "code",
   "execution_count": 21,
   "metadata": {
    "collapsed": true
   },
   "outputs": [],
   "source": [
    "PsE_array = array([])\n",
    "for l in arange(0,10,2):\n",
    "    z = float(l)\n",
    "    %run PsEsim_x01_tri.py $z\n",
    "    PsE_array=hstack((PsE_array, array([PsE])))"
   ]
  },
  {
   "cell_type": "markdown",
   "metadata": {},
   "source": [
    "__Below is the array which contains the PsE values correpsonding to required SNR value__"
   ]
  },
  {
   "cell_type": "code",
   "execution_count": 22,
   "metadata": {},
   "outputs": [
    {
     "data": {
      "text/plain": [
       "array([ 0.09929  ,  0.06383  ,  0.03821  ,  0.02064  ,  0.0067198])"
      ]
     },
     "execution_count": 22,
     "metadata": {},
     "output_type": "execute_result"
    }
   ],
   "source": [
    "PsE_array"
   ]
  },
  {
   "cell_type": "code",
   "execution_count": 23,
   "metadata": {},
   "outputs": [
    {
     "data": {
      "image/png": "[encoded data removed]",
      "text/plain": [
       "<matplotlib.figure.Figure at 0x7f5c1c1b02e8>"
      ]
     },
     "metadata": {},
     "output_type": "display_data"
    }
   ],
   "source": [
    "semilogy(arange(0,10,2),PsE_array)\n",
    "grid(True,which=\"both\")\n",
    "xlabel(\"Eb/No in dB\")\n",
    "ylabel(\"Bit Error Rate\")\n",
    "title(\"Probability of Symbol Error P (E) for bipolar \\n(Equally Likely) Digital PAM\")\n",
    "show()"
   ]
  },
  {
   "cell_type": "code",
   "execution_count": null,
   "metadata": {
    "collapsed": true
   },
   "outputs": [],
   "source": []
  }
 ],
 "metadata": {
  "kernelspec": {
   "display_name": "Python 3",
   "language": "python",
   "name": "python3"
  },
  "language_info": {
   "codemirror_mode": {
    "name": "ipython",
    "version": 3
   },
   "file_extension": ".py",
   "mimetype": "text/x-python",
   "name": "python",
   "nbconvert_exporter": "python",
   "pygments_lexer": "ipython3",
   "version": "3.6.3"
  }
 },
 "nbformat": 4,
 "nbformat_minor": 1
}
