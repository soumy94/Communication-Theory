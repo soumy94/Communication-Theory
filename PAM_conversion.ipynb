{
 "cells": [
  {
   "cell_type": "markdown",
   "metadata": {},
   "source": [
    "Converting PAM signal from .wav to time domain and frequency domain plots. Then calculating the baud rate from bit rate and decoding the message from the .wav file."
   ]
  },
  {
   "cell_type": "code",
   "execution_count": 1,
   "metadata": {},
   "outputs": [
    {
     "ename": "NameError",
     "evalue": "name 'dn' is not defined",
     "output_type": "error",
     "traceback": [
      "\u001b[1;31m---------------------------------------------------------------------------\u001b[0m",
      "\u001b[1;31mNameError\u001b[0m                                 Traceback (most recent call last)",
      "\u001b[1;32m<ipython-input-1-d795b10fb761>\u001b[0m in \u001b[0;36m<module>\u001b[1;34m()\u001b[0m\n\u001b[0;32m      1\u001b[0m \u001b[1;32mfrom\u001b[0m \u001b[0mpylab\u001b[0m \u001b[1;32mimport\u001b[0m \u001b[1;33m*\u001b[0m\u001b[1;33m\u001b[0m\u001b[0m\n\u001b[1;32m----> 2\u001b[1;33m \u001b[1;32mimport\u001b[0m \u001b[0mascfun\u001b[0m \u001b[1;32mas\u001b[0m \u001b[0maf\u001b[0m\u001b[1;33m\u001b[0m\u001b[0m\n\u001b[0m\u001b[0;32m      3\u001b[0m \u001b[1;32mimport\u001b[0m \u001b[0mwavfun\u001b[0m \u001b[1;32mas\u001b[0m \u001b[0mwf\u001b[0m\u001b[1;33m\u001b[0m\u001b[0m\n\u001b[0;32m      4\u001b[0m \u001b[1;32mimport\u001b[0m \u001b[0mshowfun\u001b[0m \u001b[1;32mas\u001b[0m \u001b[0msf\u001b[0m\u001b[1;33m\u001b[0m\u001b[0m\n",
      "\u001b[1;32m~\\Desktop\\files\\course material\\GradCommLab\\ascfun.py\u001b[0m in \u001b[0;36m<module>\u001b[1;34m()\u001b[0m\n\u001b[0;32m     53\u001b[0m \u001b[1;33m\u001b[0m\u001b[0m\n\u001b[0;32m     54\u001b[0m \u001b[1;33m\u001b[0m\u001b[0m\n\u001b[1;32m---> 55\u001b[1;33m \u001b[0mN\u001b[0m \u001b[1;33m=\u001b[0m \u001b[0mlen\u001b[0m\u001b[1;33m(\u001b[0m\u001b[0mdn\u001b[0m\u001b[1;33m)\u001b[0m \u001b[1;31m# Total number of bits\u001b[0m\u001b[1;33m\u001b[0m\u001b[0m\n\u001b[0m\u001b[0;32m     56\u001b[0m \u001b[0mTb\u001b[0m \u001b[1;33m=\u001b[0m \u001b[1;36m1\u001b[0m\u001b[1;33m/\u001b[0m\u001b[0mfloat\u001b[0m\u001b[1;33m(\u001b[0m\u001b[0mFb\u001b[0m\u001b[1;33m)\u001b[0m \u001b[1;31m# Time per bit\u001b[0m\u001b[1;33m\u001b[0m\u001b[0m\n\u001b[0;32m     57\u001b[0m \u001b[0mixL\u001b[0m \u001b[1;33m=\u001b[0m \u001b[0mround\u001b[0m\u001b[1;33m(\u001b[0m\u001b[1;33m-\u001b[0m\u001b[1;36m1\u001b[0m\u001b[1;33m/\u001b[0m\u001b[1;36m2\u001b[0m\u001b[1;33m*\u001b[0m\u001b[0mFs\u001b[0m\u001b[1;33m*\u001b[0m\u001b[0mTb\u001b[0m\u001b[1;33m)\u001b[0m \u001b[1;31m# Left index for time axis\u001b[0m\u001b[1;33m\u001b[0m\u001b[0m\n",
      "\u001b[1;31mNameError\u001b[0m: name 'dn' is not defined"
     ]
    }
   ],
   "source": [
    "from pylab import *\n",
    "import ascfun as af\n",
    "import wavfun as wf\n",
    "import showfun as sf"
   ]
  },
  {
   "cell_type": "code",
   "execution_count": null,
   "metadata": {
    "collapsed": true
   },
   "outputs": [],
   "source": [
    "#***** Finding the bit rate *****#\n",
    "​\n",
    "file = input(\"Enter the  wav filename: \")\n",
    "rt, fs = wf.wavread(file) #reading the wav file\n",
    "​\n",
    "bits = 8\n",
    "dn=[] #PAM sequence\n",
    "value = (max(rt) + min(rt))/2.0   # To identify if the bit is 1 or 0\n",
    "​\n",
    "​\n",
    "for i in rt: #making a list of all bits\n",
    "    if i > value:\n",
    "        dn = dn + [1]\n",
    "    else:\n",
    "        dn = dn + [0]\n",
    "​\n",
    "# counting the 1s or 0s in order\n",
    "j=dn[0] \n",
    "n=0 \n",
    "count=[]  #count of continuous 1s or 0s\n",
    "for i in dn:\n",
    "    if j == i:\n",
    "        n=n+1\n",
    "        continue\n",
    "    else:\n",
    "        j=i\n",
    "        count = count + [n]\n",
    "        n=0\n",
    "​\n",
    "# getting the bitrate\n",
    "print(\"The bit rate is \")\n",
    "print(fs/min(count))\n"
   ]
  }
 ],
 "metadata": {
  "kernelspec": {
   "display_name": "Python 3",
   "language": "python",
   "name": "python3"
  },
  "language_info": {
   "codemirror_mode": {
    "name": "ipython",
    "version": 3
   },
   "file_extension": ".py",
   "mimetype": "text/x-python",
   "name": "python",
   "nbconvert_exporter": "python",
   "pygments_lexer": "ipython3",
   "version": "3.6.3"
  }
 },
 "nbformat": 4,
 "nbformat_minor": 2
}
