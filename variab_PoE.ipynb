{
 "cells": [
  {
   "cell_type": "code",
   "execution_count": 69,
   "metadata": {
    "collapsed": true
   },
   "outputs": [],
   "source": [
    "%matplotlib inline\n",
    "from pylab import *\n",
    "import ccfun\n",
    "import pamfunlab7\n",
    "import wavfun as wf\n",
    "import ascfun as af"
   ]
  },
  {
   "cell_type": "code",
   "execution_count": 70,
   "metadata": {},
   "outputs": [
    {
     "data": {
      "text/plain": [
       "array([1, 1, 0, 1, 1, 1, 1, 0, 0, 1, 0, 0])"
      ]
     },
     "execution_count": 70,
     "metadata": {},
     "output_type": "execute_result"
    }
   ],
   "source": [
    "di = [1,0,1,1,0,0]\n",
    "GD = [[1,0],[1,1]]\n",
    "ci = ccfun.ccencod10(di,GD)\n",
    "ci"
   ]
  },
  {
   "cell_type": "markdown",
   "metadata": {},
   "source": [
    "Convolutional encoder is successfully tested"
   ]
  },
  {
   "cell_type": "code",
   "execution_count": 71,
   "metadata": {},
   "outputs": [
    {
     "data": {
      "text/plain": [
       "array([1, 1, 0, 1, 1, 1, 1, 0, 0, 1, 0, 0])"
      ]
     },
     "execution_count": 71,
     "metadata": {},
     "output_type": "execute_result"
    }
   ],
   "source": [
    "di = [1,0,1,1,0,0]\n",
    "GD = [[1,0],[1,1]]\n",
    "ci = ccfun.ccencod10(di,GD)                              # di sequence encoded to ci\n",
    "ci"
   ]
  },
  {
   "cell_type": "code",
   "execution_count": 72,
   "metadata": {},
   "outputs": [
    {
     "data": {
      "text/plain": [
       "array([ 1,  1, -1,  1,  1,  1,  1, -1, -1,  1, -1, -1])"
      ]
     },
     "execution_count": 72,
     "metadata": {},
     "output_type": "execute_result"
    }
   ],
   "source": [
    "for i in range(len(ci)):\n",
    "    ci[i] = 2*ci[i] - 1\n",
    "ci                                                 #polar sequence"
   ]
  },
  {
   "cell_type": "code",
   "execution_count": 73,
   "metadata": {},
   "outputs": [],
   "source": [
    "nt = randn(len(ci))                        # Gaussian noise\n",
    "bi = ci + nt                               # sequence with noise added"
   ]
  },
  {
   "cell_type": "code",
   "execution_count": 74,
   "metadata": {},
   "outputs": [],
   "source": [
    "dihat,DM = ccfun.ccdecod10(bi)             # decoding function applied to bi sequence"
   ]
  },
  {
   "cell_type": "code",
   "execution_count": 75,
   "metadata": {},
   "outputs": [
    {
     "data": {
      "text/plain": [
       "array([1, 0, 1, 1, 0, 0])"
      ]
     },
     "execution_count": 75,
     "metadata": {},
     "output_type": "execute_result"
    }
   ],
   "source": [
    "dihat"
   ]
  },
  {
   "cell_type": "markdown",
   "metadata": {},
   "source": [
    "Here we can see that dihat is equal to di sequence"
   ]
  },
  {
   "cell_type": "code",
   "execution_count": 76,
   "metadata": {},
   "outputs": [
    {
     "data": {
      "text/plain": [
       "<matplotlib.text.Text at 0x21a4bad3908>"
      ]
     },
     "execution_count": 76,
     "metadata": {},
     "output_type": "execute_result"
    },
    {
     "data": {
      "image/png": "[encoded data removed]",
      "text/plain": [
       "<matplotlib.figure.Figure at 0x21a4bad99e8>"
      ]
     },
     "metadata": {},
     "output_type": "display_data"
    }
   ],
   "source": [
    "Fs = 1000                                                    # Sampling rate \n",
    "FB = 100                                                     # Baud rate FB \n",
    "N = 1000                                                     # Number of symbols \n",
    "PsE = []                                                      # initializing Probability of error as empty array\n",
    "Nerr = []                                                     # initializing no. of error bits as empty array\n",
    "multiplier = 10\n",
    "EbNodB = arange(0,16,2)                                  # Specified SNR Eb/No in dB \n",
    "ptype, pparms = 'rect',[]                                # Pulse type/parameters \n",
    "an_set = [-1,+1]                                         # Set of possible an values \n",
    "M = len(an_set)                                          # Number of signal levels \n",
    "\n",
    "# ***** Compute Eb for given p(t) and signal constellation ***** \n",
    "an1 = hstack((zeros(500),1,zeros(499)))\n",
    "an2 = hstack((zeros(500),-1,zeros(499)))\n",
    "ttx1,ax1 = pamfunlab7.pam12(an1,100,1000,'rect')\n",
    "ttx2,ax2 = pamfunlab7.pam12(an2,100,1000,'rect')\n",
    "Es1 = cumsum(ax1**2.0)/float(Fs)\n",
    "Es2 = cumsum(ax2**2.0)/float(Fs)\n",
    "Eb = (Es1+ Es2)/(2.0*log2(M))\n",
    "Eb = Eb[-1]\n",
    "        \n",
    "for i in range(len(EbNodB)): \n",
    "    #*****compute value of No*****\n",
    "    EbNo = np.power(10.0,(EbNodB[i]/10))                        #linear value of SNR\n",
    "    No =(2.0*Eb/EbNo)                                              #Value of No\n",
    "    Nerrblock = []                                  # initializing Nerr for one block as empty array for every value of EbNodB\n",
    "    \n",
    "    for r in range(multiplier):\n",
    "        \n",
    "        # ***** Generate PAM signal using random data ***** \n",
    "        dn = array(floor(2*rand(N)),int)                          # Random binary data signal \n",
    "        dnci = ccfun.ccencod10(dn,[[1,0],[1,1]])\n",
    "        #dnci = reshape(dnci,len(dnci))\n",
    "        an = [0]*len(dnci)\n",
    "        for zz in range(len(dnci)):\n",
    "            an[zz] = 2*dnci[zz]-1                                               # Polar binary sequence \n",
    "        tt, st = pamfunlab7.pam12(an, FB, Fs, ptype, pparms)      # PAM signal \n",
    "        # ***** Generate Gaussian noise signal ***** \n",
    "        nt = randn(len(tt))                                       # Gaussian noise \n",
    "        Pnt = Fs*No/2.0 # Noise power in freq domain\n",
    "        An = sqrt(Pnt)\n",
    "        # >>>>> Compute An such that rt has desired SNR Eb/No <<<<< \n",
    "        rt = st + An*nt                                           # Noisy PAM signal \n",
    "        # ***** PAM signal receiver ***** \n",
    "        dly = 0 \n",
    "        bn, bt, ixn = pamfunlab7.pamrcvr10(tt, rt, [FB, dly], ptype, pparms) \n",
    "        dnhat = array(zeros(len(bn)),int) \n",
    "        ix = where(bn > 0)[0] \n",
    "        dnhat[ix] = ones(len(ix))                                 # Received binary data, quantized \n",
    "        for xx in range(len(dnhat)):\n",
    "            dnhat[xx] = 2*dnhat[xx] - 1\n",
    "        dnhatdi,DM = ccfun.ccdecod10(dnhat)\n",
    "        # ***** Compare dn, dnhat and compute Ps(E) ***** \n",
    "        xor = logical_xor(dn,dnhatdi)\n",
    "        xor.astype(int)\n",
    "        Nerrblock.append(cumsum(xor)[-1])\n",
    "        \n",
    "    Nerr.append(cumsum(Nerrblock)[-1])\n",
    "    PsE.append(Nerr[i]/(N*multiplier))\n",
    "    \n",
    "semilogy(EbNodB,PsE)\n",
    "grid()\n",
    "title('Variation in Probability of Error with given SNR in dB')\n",
    "xlabel('Eb/No(dB)')\n",
    "ylabel('Ps(E)')\n"
   ]
  },
  {
   "cell_type": "code",
   "execution_count": 77,
   "metadata": {},
   "outputs": [
    {
     "data": {
      "text/plain": [
       "array([0, 0, 0, ..., 1, 0, 1])"
      ]
     },
     "execution_count": 77,
     "metadata": {},
     "output_type": "execute_result"
    }
   ],
   "source": [
    "dnci"
   ]
  },
  {
   "cell_type": "code",
   "execution_count": 19,
   "metadata": {},
   "outputs": [
    {
     "data": {
      "text/plain": [
       "<matplotlib.text.Text at 0x21a4a681390>"
      ]
     },
     "execution_count": 19,
     "metadata": {},
     "output_type": "execute_result"
    },
    {
     "data": {
      "image/png": "[encoded data removed]",
      "text/plain": [
       "<matplotlib.figure.Figure at 0x21a4a621f28>"
      ]
     },
     "metadata": {},
     "output_type": "display_data"
    }
   ],
   "source": [
    "Fs = 1000                                                    # Sampling rate \n",
    "FB = 100                                                     # Baud rate FB \n",
    "N = 1000                                                     # Number of symbols \n",
    "PsE = []                                                      # initializing Probability of error as empty array\n",
    "Nerr = []                                                     # initializing no. of error bits as empty array\n",
    "multiplier = 1\n",
    "EbNodB = arange(0,14,1)                                  # Specified SNR Eb/No in dB \n",
    "ptype, pparms = 'rect',[]                                # Pulse type/parameters \n",
    "an_set = [-1,+1]                                         # Set of possible an values \n",
    "M = len(an_set)                                          # Number of signal levels \n",
    "\n",
    "for i in range(len(EbNodB)): \n",
    "    Nerrblock = []                                  # initializing Nerr for one block as empty array for every value of EbNodB\n",
    "    \n",
    "    for r in range(multiplier):\n",
    "        # ***** Compute Eb for given p(t) and signal constellation ***** \n",
    "        an1 = hstack((zeros(500),1,zeros(499)))\n",
    "        an2 = hstack((zeros(500),-1,zeros(499)))\n",
    "        ttx1,ax1 = pamfunlab7.pam12(an1,100,1000,'rect')\n",
    "        ttx2,ax2 = pamfunlab7.pam12(an2,100,1000,'rect')\n",
    "        Es1 = cumsum(ax1**2.0)/float(Fs)\n",
    "        Es2 = cumsum(ax2**2.0)/float(Fs)\n",
    "        Eb = (Es1+ Es2)/2*(2.0*log2(M))\n",
    "        Eb = Eb[-1]\n",
    "        #*****compute value of No*****\n",
    "        EbNo = np.power(10.0,(EbNodB[i]/10))                        #linear value of SNR\n",
    "        No =(Eb/EbNo)                                              #Value of No\n",
    "        # ***** Generate PAM signal using random data ***** \n",
    "        dn = array(floor(2*rand(N)),int)                          # Random binary data signal \n",
    "        dnci = ccfun.ccencod10(dn,[[1,0],[1,1]])\n",
    "        dnci = reshape(dnci,len(dnci))\n",
    "        an = [0]*len(dnci)\n",
    "        for zz in range(len(dnci)):\n",
    "            an[zz] = 2*dnci[zz]-1                                               # Polar binary sequence \n",
    "        tt, st = pamfunlab7.pam12(an, FB, Fs, ptype, pparms)      # PAM signal \n",
    "        # ***** Generate Gaussian noise signal ***** \n",
    "        nt = randn(len(tt))                                       # Gaussian noise \n",
    "        Pnt = Fs*No/2.0 # Noise power in freq domain\n",
    "        An = sqrt(Pnt)\n",
    "        # >>>>> Compute An such that rt has desired SNR Eb/No <<<<< \n",
    "        rt = st + An*nt                                           # Noisy PAM signal \n",
    "        # ***** PAM signal receiver ***** \n",
    "        dly = 0 \n",
    "        bn, bt, ixn = pamfunlab7.pamrcvr10(tt, rt, [FB, dly], ptype, pparms) \n",
    "        #dnhat = array(zeros(len(bn)),int) \n",
    "        #ix = where(bn > 0)[0] \n",
    "        #dnhat[ix] = ones(len(ix))                                 # Received binary data, quantized \n",
    "        dnhatdi,DM = ccfun.ccdecod10(bn)\n",
    "        # ***** Compare dn, dnhat and compute Ps(E) ***** \n",
    "        xor = logical_xor(dn,dnhatdi)\n",
    "        xor.astype(int)\n",
    "        Nerrblock.append(cumsum(xor)[-1])\n",
    "        \n",
    "    Nerr.append(cumsum(Nerrblock)[-1])\n",
    "    PsE.append(Nerr[i]/(N*multiplier))\n",
    "    \n",
    "semilogy(EbNodB,PsE)\n",
    "grid()\n",
    "title('Variation in Probability of Error with given SNR in dB')\n",
    "xlabel('Eb/No(dB)')\n",
    "ylabel('Ps(E)')\n"
   ]
  },
  {
   "cell_type": "code",
   "execution_count": null,
   "metadata": {},
   "outputs": [],
   "source": []
  },
  {
   "cell_type": "code",
   "execution_count": 10,
   "metadata": {},
   "outputs": [],
   "source": [
    "rt,Fs = wf.wavread('pamsig701.wav')\n",
    "tt = arange(len(rt))/float(Fs)"
   ]
  },
  {
   "cell_type": "code",
   "execution_count": 11,
   "metadata": {},
   "outputs": [],
   "source": [
    "bn,bt,ixn = pamfunlab7.pamrcvr10(tt,rt,[100,0],'rect')"
   ]
  },
  {
   "cell_type": "code",
   "execution_count": 12,
   "metadata": {},
   "outputs": [],
   "source": [
    "dihat,DM = ccfun.ccdecod10(bn)             # decoding function applied to bi sequence"
   ]
  },
  {
   "cell_type": "code",
   "execution_count": 13,
   "metadata": {},
   "outputs": [
    {
     "name": "stdout",
     "output_type": "stream",
     "text": [
      "The military budgets of most indtstrialized nations can afford to break 64-bit keys.\n"
     ]
    }
   ],
   "source": [
    "txthat = af.bin2asc(dihat,8) # converting input sequence into output text\n",
    "\n",
    "print(txthat) # Printing result"
   ]
  },
  {
   "cell_type": "markdown",
   "metadata": {
    "collapsed": true
   },
   "source": [
    "# The required message was successfully decoded."
   ]
  },
  {
   "cell_type": "code",
   "execution_count": null,
   "metadata": {
    "collapsed": true
   },
   "outputs": [],
   "source": []
  }
 ],
 "metadata": {
  "kernelspec": {
   "display_name": "Python 3",
   "language": "python",
   "name": "python3"
  },
  "language_info": {
   "codemirror_mode": {
    "name": "ipython",
    "version": 3
   },
   "file_extension": ".py",
   "mimetype": "text/x-python",
   "name": "python",
   "nbconvert_exporter": "python",
   "pygments_lexer": "ipython3",
   "version": "3.6.3"
  }
 },
 "nbformat": 4,
 "nbformat_minor": 1
}
