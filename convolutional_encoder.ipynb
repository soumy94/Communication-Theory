{
 "cells": [
  {
   "cell_type": "markdown",
   "metadata": {},
   "source": [
    "# Convolutional Encoder/Decoder."
   ]
  },
  {
   "cell_type": "code",
   "execution_count": 3,
   "metadata": {
    "collapsed": true
   },
   "outputs": [],
   "source": [
    "%matplotlib inline\n",
    "from pylab import *\n",
    "import pamfun as pamfun\n",
    "import ascfun as af"
   ]
  },
  {
   "cell_type": "markdown",
   "metadata": {
    "collapsed": true
   },
   "source": [
    "__Below is the code written to generate the convolution code for a bit sequence with binary rate 1/n__"
   ]
  },
  {
   "cell_type": "code",
   "execution_count": 25,
   "metadata": {},
   "outputs": [],
   "source": [
    "def ccencod10(di, GD, trim=True):\n",
    "    \"\"\"\n",
    "    Binary rate 1/n convolutional encoder with transfer\n",
    "    function matrix G(D), V 1.0\n",
    "    >>>>> ci = ccencod10(di, GD, trim) <<<<<\n",
    "    where ci: multiplexed binary code sequence\n",
    "    di: binary (unipolar) data sequence\n",
    "    GD: array of n encoder polynomials\n",
    "    trim: if True, trim ci to n*len(di)\n",
    "    Examples:\n",
    "    GD = [[1,0],[1,1]] for G(D) = [1 1+D]\n",
    "    GD = [[1,0,1],[1,1,1]] for G(D) = [1+D^2 1+D+D^2]\n",
    "    GD = [[1,0,1,1],[1,1,0,1],[1,1,1,1]]\n",
    "    for G(D) = [1+D^2+D^3 1+D+D^3 1+D+D^2+D^3]\n",
    "    \"\"\"\n",
    "    code = array([])                                         # initialisation of code\n",
    "    nm = len(GD[0])-1                                        # number of memory elements\n",
    "    ps = zeros(nm)                                           # present state\n",
    "    ns = zeros(nm)                                           # next state\n",
    "    \n",
    "    # Generating the convolution code\n",
    "    for bit in di:\n",
    "        GD_prime=append(bit,ps)*GD\n",
    "        code = append(code,sum(GD_prime,axis=1)%2)\n",
    "        ns = append(bit,ps)[0:nm]                            # Calculating the next state\n",
    "        ps = ns     \n",
    "    code = array(code,int8)\n",
    "    if trim==True:\n",
    "        code = code[0:(len(GD)*len(di))+1]\n",
    "    return code\n",
    "    "
   ]
  },
  {
   "cell_type": "markdown",
   "metadata": {
    "scrolled": true
   },
   "source": [
    "__Now checking the code functionality by comparing the codes encoding given in the lab manual.__"
   ]
  },
  {
   "cell_type": "code",
   "execution_count": 5,
   "metadata": {
    "collapsed": true
   },
   "outputs": [],
   "source": [
    "di = array([1, 0, 1, 1, 0, 0])                             # Example Code given in the Experiment 2\n",
    "GD = array([[1,0],[1,1]])                                  # the transfer function matrix"
   ]
  },
  {
   "cell_type": "code",
   "execution_count": 6,
   "metadata": {},
   "outputs": [
    {
     "data": {
      "text/plain": [
       "array([1, 1, 0, 1, 1, 1, 1, 0, 0, 1, 0, 0], dtype=int8)"
      ]
     },
     "execution_count": 6,
     "metadata": {},
     "output_type": "execute_result"
    }
   ],
   "source": [
    "ccencod10(di, GD, trim=True)"
   ]
  },
  {
   "cell_type": "markdown",
   "metadata": {},
   "source": [
    "__Now verifying the code using the di and GD given at Page 11 & 12 of lab manual.__"
   ]
  },
  {
   "cell_type": "code",
   "execution_count": 7,
   "metadata": {
    "collapsed": true
   },
   "outputs": [],
   "source": [
    "di = array([1, 1, 1, 0, 0, 0]) \n",
    "GD = array([[1,0,1],[1,1,1]])"
   ]
  },
  {
   "cell_type": "code",
   "execution_count": 8,
   "metadata": {},
   "outputs": [
    {
     "data": {
      "text/plain": [
       "array([1, 1, 1, 0, 0, 1, 1, 0, 1, 1, 0, 0], dtype=int8)"
      ]
     },
     "execution_count": 8,
     "metadata": {},
     "output_type": "execute_result"
    }
   ],
   "source": [
    "ccencod10(di, GD, trim=True)"
   ]
  },
  {
   "cell_type": "markdown",
   "metadata": {},
   "source": [
    "__We found the outputs of the ccencod10 to the enocded ouput of the di from lab manual are same.__ "
   ]
  },
  {
   "cell_type": "code",
   "execution_count": null,
   "metadata": {
    "collapsed": true
   },
   "outputs": [],
   "source": []
  },
  {
   "cell_type": "markdown",
   "metadata": {
    "collapsed": true
   },
   "source": [
    "__Below is the given code (in lab manual) for decoding the convolution code__"
   ]
  },
  {
   "cell_type": "code",
   "execution_count": 41,
   "metadata": {
    "collapsed": true
   },
   "outputs": [],
   "source": [
    "def ccdecod10(bi):\n",
    "    \"\"\"\n",
    "    Viterbi decoder for binary rate 1/2 convolutional code received\n",
    "    as polar (binary 0 -> -1, binary 1 -> +1) PAM signal from AWGN\n",
    "    channel.\n",
    "    Version 1.0 for encoder transfer function matrix G(D) = [1 1+D]\n",
    "    >>>>> dihat, DM = ccdecod10(bi) <<<<<\n",
    "    where dihat: ML estimate of binary data sequence\n",
    "    DM: array of final distance metrics\n",
    "    bi: received noisy polar binary (+A/-A) sequence\n",
    "    \"\"\"\n",
    "    n, K, m = 2, 2, 1                                                  # Rate 1/n, constraint len K, memory m\n",
    "    N = int(floor(len(bi)/float(n)))                                   # Number of codeword frames\n",
    "    CBM = [[-1,-1],[+1,+1],[-1,+1],[+1,-1]]                            # Code-bit (-1/+1) matrix\n",
    "    DM = array([0,1000])                                               # (Initial) distance metrics\n",
    "    dA = array(zeros((2,1)),int)                                       # Competing data sequence array\n",
    "    ix2 = array([0,0,1,1],int)                                         # State indexes (doubled)\n",
    "    for i in range(N):\n",
    "        bDM = np.power(outer(ones(4),bi[n*i:n*(i+1)]) - CBM,2.0)\n",
    "        bDM = dot(bDM,ones((n,1)))                                     # Branch distance metrics\n",
    "        bDM = reshape(bDM,size(bDM))                                   # Convert to 1d array\n",
    "        tDM = DM[ix2] + bDM                                            # Tentative distance metrics\n",
    "    \n",
    "    tDM = reshape(tDM,(2,2))                                           # Reshape for path elimination\n",
    "    DM = amin(tDM,axis=0)                                              # Select paths with smaller metric\n",
    "    ix = argmin(tDM,axis=0)                                            # Indexes of smaller metric paths\n",
    "    dA = hstack((dA[ix,:],array([[0],[1]])))                           # Competing data sequence update\n",
    "    dA = dA[:,1:]                                                      # Discard first (dummy) column\n",
    "    ix = argmin(DM)                                                    # Index of smallest metric\n",
    "    dihat = dA[ix,:]                                                   # ML-decoded data sequence\n",
    "    dihat = reshape(array(dihat),size(dihat))                          # Convert to 1d array\n",
    "    \n",
    "    return dihat, DM"
   ]
  },
  {
   "cell_type": "markdown",
   "metadata": {},
   "source": [
    "__Verifying the decoder: We will generate a test sequence, convert it to waveform using rect pulse and then add noise to it. We will try to get back original sequence using the viterbi algorithm__"
   ]
  },
  {
   "cell_type": "code",
   "execution_count": 42,
   "metadata": {},
   "outputs": [],
   "source": [
    "dn = af.asc2bin('MyTest')\n",
    "an = ccencod10(dn,array([[1,0,1],[1,1,1]]))\n",
    "tt, st = pamfun.pam12(an, FB=10000, Fs=10000, ptype='rect', pparms=[])\n"
   ]
  },
  {
   "cell_type": "code",
   "execution_count": 43,
   "metadata": {},
   "outputs": [],
   "source": [
    "rt = st + randn(len(st))"
   ]
  },
  {
   "cell_type": "code",
   "execution_count": 44,
   "metadata": {},
   "outputs": [],
   "source": [
    "dihat,DM=ccdecod10(rt)"
   ]
  },
  {
   "cell_type": "code",
   "execution_count": 45,
   "metadata": {},
   "outputs": [
    {
     "data": {
      "text/plain": [
       "array([1])"
      ]
     },
     "execution_count": 45,
     "metadata": {},
     "output_type": "execute_result"
    }
   ],
   "source": [
    "dihat"
   ]
  },
  {
   "cell_type": "code",
   "execution_count": null,
   "metadata": {
    "collapsed": true
   },
   "outputs": [],
   "source": []
  }
 ],
 "metadata": {
  "kernelspec": {
   "display_name": "Python 3",
   "language": "python",
   "name": "python3"
  },
  "language_info": {
   "codemirror_mode": {
    "name": "ipython",
    "version": 3
   },
   "file_extension": ".py",
   "mimetype": "text/x-python",
   "name": "python",
   "nbconvert_exporter": "python",
   "pygments_lexer": "ipython3",
   "version": "3.6.3"
  }
 },
 "nbformat": 4,
 "nbformat_minor": 1
}
