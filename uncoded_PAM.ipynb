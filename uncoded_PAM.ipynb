{
 "cells": [
  {
   "cell_type": "markdown",
   "metadata": {},
   "source": [
    "# Simulation of probability of symbol error Ps(E) for data transmission using uncoded PAM "
   ]
  },
  {
   "cell_type": "code",
   "execution_count": 3,
   "metadata": {
    "collapsed": true
   },
   "outputs": [],
   "source": [
    "%matplotlib inline\n",
    "from pylab import *\n",
    "import pamfunlab7"
   ]
  },
  {
   "cell_type": "code",
   "execution_count": 5,
   "metadata": {},
   "outputs": [
    {
     "data": {
      "text/plain": [
       "<matplotlib.text.Text at 0x1d360ae6208>"
      ]
     },
     "execution_count": 5,
     "metadata": {},
     "output_type": "execute_result"
    },
    {
     "data": {
      "image/png": "[encoded data removed]",
      "text/plain": [
       "<matplotlib.figure.Figure at 0x1d360ad7fd0>"
      ]
     },
     "metadata": {},
     "output_type": "display_data"
    }
   ],
   "source": [
    "# File PsEsim_x01.py\n",
    "# Simulation of probability of symbol error Ps(E) for \n",
    "# data transmission using uncoded PAM \n",
    "# ***** Parameters ***** \n",
    "Fs = 1000                                                    # Sampling rate \n",
    "FB = 100                                                     # Baud rate FB \n",
    "N = 1000                                                     # Number of symbols \n",
    "PsE = []                                                      # initializing Probability of error as empty array\n",
    "Nerr = []                                                     # initializing no. of error bits as empty array\n",
    "multiplier = 10000\n",
    "EbNodB = arange(0,14,1)                                  # Specified SNR Eb/No in dB \n",
    "ptype, pparms = 'rect',[]                                # Pulse type/parameters \n",
    "an_set = [-1,+1]                                         # Set of possible an values \n",
    "M = len(an_set)                                          # Number of signal levels \n",
    "\n",
    "for i in range(len(EbNodB)): \n",
    "    Nerrblock = []                                  # initializing Nerr for one block as empty array for every value of EbNodB\n",
    "    \n",
    "    for r in range(multiplier):\n",
    "        # ***** Compute Eb for given p(t) and signal constellation ***** \n",
    "        an1 = hstack((zeros(500),-3,zeros(499)))\n",
    "        an2 = hstack((zeros(500),-1,zeros(499)))\n",
    "        an3 = hstack((zeros(500),+1,zeros(499)))\n",
    "        an4 = hstack((zeros(500),+3,zeros(499)))\n",
    "        ttx1,ax1 = pamfunlab7.pam12(an1,100,1000,'rect')\n",
    "        ttx2,ax2 = pamfunlab7.pam12(an2,100,1000,'rect')\n",
    "        ttx3,ax3 = pamfunlab7.pam12(an3,100,1000,'rect')\n",
    "        ttx4,ax4 = pamfunlab7.pam12(an4,100,1000,'rect')\n",
    "        Es1 = cumsum(ax1**2.0)/float(Fs)\n",
    "        Es2 = cumsum(ax2**2.0)/float(Fs)\n",
    "        Es3 = cumsum(ax3**2.0)/float(Fs)\n",
    "        Es4 = cumsum(ax4**2.0)/float(Fs)\n",
    "        Eb = (Es1+Es2+Es3+Es4)/(4.0*log2(M))\n",
    "        Eb = Eb[-1]\n",
    "        #*****compute value of No*****\n",
    "        EbNo = np.power(10.0,(EbNodB[i]/10))                        #linear value of SNR\n",
    "        No =(Eb/EbNo)                                              #Value of No\n",
    "        # ***** Generate PAM signal using random data ***** \n",
    "        dn = array(floor(2*rand(N)),int)                          # Random binary data signal \n",
    "        an = 2*dn-1                                               # Polar binary sequence \n",
    "        tt, st = pamfunlab7.pam12(an, FB, Fs, ptype, pparms)      # PAM signal \n",
    "        # ***** Generate Gaussian noise signal ***** \n",
    "        nt = randn(len(tt))                                       # Gaussian noise \n",
    "        Pnt = Fs*No/2.0 # Noise power in freq domain\n",
    "        An = sqrt(Pnt)\n",
    "        # >>>>> Compute An such that rt has desired SNR Eb/No <<<<< \n",
    "        rt = st + An*nt                                           # Noisy PAM signal \n",
    "        # ***** PAM signal receiver ***** \n",
    "        dly = 0 \n",
    "        bn, bt, ixn = pamfunlab7.pamrcvr10(tt, rt, [FB, dly], ptype, pparms) \n",
    "        dnhat = array(zeros(len(bn)),int) \n",
    "        ix = where(bn > 0)[0] \n",
    "        dnhat[ix] = ones(len(ix))                                 # Received binary data, quantized \n",
    "        # ***** Compare dn, dnhat and compute Ps(E) ***** \n",
    "        xor = logical_xor(dn,dnhat)\n",
    "        xor.astype(int)\n",
    "        Nerrblock.append(cumsum(xor)[-1])\n",
    "        \n",
    "    Nerr.append(cumsum(Nerrblock)[-1])\n",
    "    PsE.append(Nerr[i]/(N*multiplier))\n",
    "    \n",
    "semilogy(EbNodB,PsE)\n",
    "grid()\n",
    "title('Variation in Probability of Error with given SNR in dB')\n",
    "xlabel('Eb/No(dB)')\n",
    "ylabel('Ps(E)')"
   ]
  },
  {
   "cell_type": "code",
   "execution_count": 4,
   "metadata": {
    "collapsed": true
   },
   "outputs": [],
   "source": [
    "import ccfun"
   ]
  },
  {
   "cell_type": "code",
   "execution_count": 5,
   "metadata": {},
   "outputs": [
    {
     "data": {
      "text/plain": [
       "[1, 1, 0, 1, 0, 0, 1, 0, 1, 0, 1, 1]"
      ]
     },
     "execution_count": 5,
     "metadata": {},
     "output_type": "execute_result"
    }
   ],
   "source": [
    "di = [1,0,1,1,0,0]\n",
    "GD = [[1,0,1],[1,1,1]]\n",
    "ci = ccfun.ccencod10(di,GD)\n",
    "ci"
   ]
  },
  {
   "cell_type": "code",
   "execution_count": 6,
   "metadata": {},
   "outputs": [],
   "source": [
    "bi = [0]*len(ci)\n",
    "for i in range(len(ci)):\n",
    "    bi[i] = 2*ci[i] - 1"
   ]
  },
  {
   "cell_type": "code",
   "execution_count": 7,
   "metadata": {},
   "outputs": [
    {
     "data": {
      "text/plain": [
       "[1, 1, -1, 1, -1, -1, 1, -1, 1, -1, 1, 1]"
      ]
     },
     "execution_count": 7,
     "metadata": {},
     "output_type": "execute_result"
    }
   ],
   "source": [
    "bi"
   ]
  },
  {
   "cell_type": "code",
   "execution_count": 8,
   "metadata": {
    "collapsed": true
   },
   "outputs": [],
   "source": [
    "dihat = ccfun.ccdecod20(bi,GD)"
   ]
  },
  {
   "cell_type": "code",
   "execution_count": 9,
   "metadata": {},
   "outputs": [
    {
     "data": {
      "text/plain": [
       "array([1, 0, 1, 1, 0, 0])"
      ]
     },
     "execution_count": 9,
     "metadata": {},
     "output_type": "execute_result"
    }
   ],
   "source": [
    "dihat"
   ]
  },
  {
   "cell_type": "markdown",
   "metadata": {},
   "source": [
    "# Here we can see that dihat = di which proves that general decoder is working correctly."
   ]
  },
  {
   "cell_type": "code",
   "execution_count": 16,
   "metadata": {},
   "outputs": [],
   "source": [
    "Fs = 1000                                                    # Sampling rate \n",
    "FB = 100                                                     # Baud rate FB \n",
    "N = 1000                                                     # Number of symbols \n",
    "PsE = []                                                      # initializing Probability of error as empty array\n",
    "Nerr = []                                                     # initializing no. of error bits as empty array\n",
    "multiplier = 1000\n",
    "EbNodB = arange(0,10,2)                                  # Specified SNR Eb/No in dB \n",
    "ptype, pparms = 'rect',[]                                # Pulse type/parameters \n",
    "an_set = [-1,+1]                                         # Set of possible an values \n",
    "M = len(an_set)                                          # Number of signal levels \n",
    "\n",
    "for i in range(len(EbNodB)): \n",
    "    Nerrblock = []                                  # initializing Nerr for one block as empty array for every value of EbNodB\n",
    "    \n",
    "    for r in range(multiplier):\n",
    "        # ***** Compute Eb for given p(t) and signal constellation ***** \n",
    "        an1 = hstack((zeros(500),1,zeros(499)))\n",
    "        an2 = hstack((zeros(500),-1,zeros(499)))\n",
    "        ttx1,ax1 = pamfunlab7.pam12(an1,100,1000,'rect')\n",
    "        ttx2,ax2 = pamfunlab7.pam12(an2,100,1000,'rect')\n",
    "        Es1 = cumsum(ax1**2.0)/float(Fs)\n",
    "        Es2 = cumsum(ax2**2.0)/float(Fs)\n",
    "        Eb = (Es1+ Es2)/(2.0*log2(M))\n",
    "        Eb = Eb[-1]\n",
    "        #*****compute value of No*****\n",
    "        EbNo = np.power(10.0,(EbNodB[i]/10))                        #linear value of SNR\n",
    "        No =(Eb/EbNo)                                              #Value of No\n",
    "        # ***** Generate PAM signal using random data ***** \n",
    "        dn = array(floor(2*rand(N)),int)                          # Random binary data signal \n",
    "        dnci = ccfun.ccencod10(dn,[[1,0],[1,1]])\n",
    "        dnci = reshape(dnci,len(dnci))\n",
    "        an = [0]*len(dnci)\n",
    "        for zz in range(len(dnci)):\n",
    "            an[zz] = 2*dnci[zz]-1                                               # Polar binary sequence \n",
    "        tt, st = pamfunlab7.pam12(an, FB, Fs, ptype, pparms)      # PAM signal \n",
    "        # ***** Generate Gaussian noise signal ***** \n",
    "        nt = randn(len(tt))                                       # Gaussian noise \n",
    "        Pnt = Fs*No/2.0 # Noise power in freq domain\n",
    "        An = sqrt(Pnt)\n",
    "        # >>>>> Compute An such that rt has desired SNR Eb/No <<<<< \n",
    "        rt = st + An*nt                                           # Noisy PAM signal \n",
    "        # ***** PAM signal receiver ***** \n",
    "        dly = 0 \n",
    "        bn, bt, ixn = pamfunlab7.pamrcvr10(tt, rt, [FB, dly], ptype, pparms) \n",
    "        dnhat = array(zeros(len(bn)),int) \n",
    "        ix = where(bn > 0)[0] \n",
    "        dnhat[ix] = ones(len(ix))                                 # Received binary data, quantized \n",
    "        dnhatdi,DM = ccfun.ccdecod10(dnhat)\n",
    "        # ***** Compare dn, dnhat and compute Ps(E) ***** \n",
    "        xor = logical_xor(dn,dnhatdi)\n",
    "        xor.astype(int)\n",
    "        Nerrblock.append(cumsum(xor)[-1])\n",
    "        \n",
    "    Nerr.append(cumsum(Nerrblock)[-1])\n",
    "    PsE.append(Nerr[i]/(N*multiplier))\n",
    "    \n",
    "semilogy(EbNodB,PsE)\n",
    "grid()\n",
    "title('Variation in Probability of Error with given SNR in dB')\n",
    "xlabel('Eb/No(dB)')\n",
    "ylabel('Ps(E)')\n"
   ]
  },
  {
   "cell_type": "code",
   "execution_count": null,
   "metadata": {},
   "outputs": [],
   "source": []
  },
  {
   "cell_type": "code",
   "execution_count": 55,
   "metadata": {},
   "outputs": [],
   "source": [
    "import wavfun as wf\n",
    "import ascfun as af\n",
    "rt,Fs = wf.wavread('pamsig702.wav')\n",
    "tt = arange(len(rt))/float(Fs)"
   ]
  },
  {
   "cell_type": "code",
   "execution_count": 56,
   "metadata": {},
   "outputs": [
    {
     "data": {
      "text/plain": [
       "array([-0.03276884, -0.0230448 , -0.04158506, ...,  0.05944958,\n",
       "        0.05084866,  0.00457227])"
      ]
     },
     "execution_count": 56,
     "metadata": {},
     "output_type": "execute_result"
    }
   ],
   "source": [
    "bn,bt,ixn = pamfunlab7.pamrcvr10(tt,rt,[175,0],'rect')\n",
    "bn"
   ]
  },
  {
   "cell_type": "code",
   "execution_count": 57,
   "metadata": {
    "collapsed": true
   },
   "outputs": [],
   "source": [
    "GD = [[1,0,1],[1,1,1]]\n",
    "dihat = ccfun.ccdecod20(bn,GD)"
   ]
  },
  {
   "cell_type": "code",
   "execution_count": 58,
   "metadata": {},
   "outputs": [
    {
     "data": {
      "text/plain": [
       "array([0, 0, 0, ..., 1, 0, 0])"
      ]
     },
     "execution_count": 58,
     "metadata": {},
     "output_type": "execute_result"
    }
   ],
   "source": [
    "dihat"
   ]
  },
  {
   "cell_type": "code",
   "execution_count": 59,
   "metadata": {},
   "outputs": [
    {
     "name": "stdout",
     "output_type": "stream",
     "text": [
      "Hewlett-Packard, which started out as a manufacturez of test equipment, \r\n",
      "was founded in 1938 in a garage in the Californian town of Palo Alto.\n"
     ]
    }
   ],
   "source": [
    "txthat = af.bin2asc(dihat,8) # converting input sequence into output text\n",
    "\n",
    "print(txthat) # Printing result"
   ]
  },
  {
   "cell_type": "markdown",
   "metadata": {
    "collapsed": true
   },
   "source": [
    "# The required message was decoded successfully."
   ]
  },
  {
   "cell_type": "code",
   "execution_count": null,
   "metadata": {
    "collapsed": true
   },
   "outputs": [],
   "source": []
  }
 ],
 "metadata": {
  "kernelspec": {
   "display_name": "Python 3",
   "language": "python",
   "name": "python3"
  },
  "language_info": {
   "codemirror_mode": {
    "name": "ipython",
    "version": 3
   },
   "file_extension": ".py",
   "mimetype": "text/x-python",
   "name": "python",
   "nbconvert_exporter": "python",
   "pygments_lexer": "ipython3",
   "version": "3.6.3"
  }
 },
 "nbformat": 4,
 "nbformat_minor": 1
}
